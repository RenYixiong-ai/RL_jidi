{
 "cells": [
  {
   "cell_type": "code",
   "execution_count": 1,
   "metadata": {},
   "outputs": [],
   "source": [
    "import os\n",
    "CURRENT_PATH = os.getcwd()\n",
    "\n",
    "import numpy as np\n",
    "\n",
    "import sklearn\n",
    "import torch\n",
    "from torch.nn import functional as F\n",
    "import torch.optim as optim\n",
    "\n",
    "from torch.utils.data import Dataset\n",
    "from torch.utils.data import DataLoader"
   ]
  },
  {
   "cell_type": "code",
   "execution_count": 2,
   "metadata": {},
   "outputs": [
    {
     "data": {
      "text/plain": [
       "CNN(\n",
       "  (Conv): Conv2d(1, 1, kernel_size=(3, 3), stride=(1, 1), padding=(1, 1))\n",
       "  (BN): BatchNorm2d(1, eps=1e-05, momentum=0.1, affine=True, track_running_stats=True)\n",
       "  (Pool): MaxPool2d(kernel_size=3, stride=1, padding=1, dilation=1, ceil_mode=False)\n",
       "  (NN1): Linear(in_features=1600, out_features=400, bias=True)\n",
       "  (NN2): Linear(in_features=400, out_features=128, bias=True)\n",
       "  (NN3): Linear(in_features=128, out_features=64, bias=True)\n",
       "  (NN4): Linear(in_features=64, out_features=2, bias=True)\n",
       ")"
      ]
     },
     "execution_count": 2,
     "metadata": {},
     "output_type": "execute_result"
    }
   ],
   "source": [
    "class CNN(torch.nn.Module):\n",
    "    def __init__(self):\n",
    "        super(CNN, self).__init__()\n",
    "        self.Conv = torch.nn.Conv2d(in_channels=1, out_channels=1 ,kernel_size=3, padding=1)\n",
    "        self.BN = torch.nn.BatchNorm2d(num_features=1)\n",
    "        self.Pool = torch.nn.MaxPool2d(kernel_size=3, stride=1, padding=1)\n",
    "\n",
    "        self.NN1 = torch.nn.Linear(1600, 400)\n",
    "        self.NN2 = torch.nn.Linear(400, 128)\n",
    "        self.NN3 = torch.nn.Linear(128, 64)\n",
    "        self.NN4 = torch.nn.Linear(64, 2)\n",
    "\n",
    "\n",
    "    def forward(self, input):\n",
    "        x = self.Conv(input)\n",
    "        x = self.BN(x)\n",
    "        x = F.relu(x)\n",
    "        x = self.Pool(x)\n",
    "        x = F.dropout(x, p=0.2)\n",
    "        x = torch.flatten(input, start_dim=1)\n",
    "\n",
    "        x = self.NN1(x)\n",
    "        x = F.relu(x)\n",
    "        x = self.NN2(x)\n",
    "        x = F.relu(x)\n",
    "        x = self.NN3(x)\n",
    "        x = F.relu(x)\n",
    "        x = self.NN4(x)\n",
    "\n",
    "        x[:, 0] = torch.tanh(x[:, 0])*150 + 50\n",
    "        x[:, 1] = torch.tanh(x[:, 1])*30\n",
    "\n",
    "        return x\n",
    "\n",
    "\n",
    "model = CNN()\n",
    "model.load_state_dict(torch.load('./paramet.pt', map_location='cpu'))\n",
    "model.eval()"
   ]
  },
  {
   "cell_type": "code",
   "execution_count": 4,
   "metadata": {},
   "outputs": [
    {
     "name": "stdout",
     "output_type": "stream",
     "text": [
      "action dim 0 range =  [-100, 200]\n",
      "action dim 1 range =  [-30, 30]\n",
      "final reward =  [1.0, 0]\n"
     ]
    }
   ],
   "source": [
    "import pygame\n",
    "import matplotlib.pyplot as plt\n",
    "import numpy as np\n",
    "\n",
    "CURRENT_PATH = os.getcwd()\n",
    "\n",
    "from olympics_engine.scenario import wrestling\n",
    "from olympics_engine.generator import create_scenario\n",
    "gamemap =  create_scenario('wrestling')        #load map config\n",
    "game = wrestling(gamemap)\n",
    "\n",
    "print('action dim 0 range = ', game.action_f)\n",
    "print('action dim 1 range = ', game.action_theta)\n",
    "our_team = 0        #we control team_0\n",
    "obs = game.reset()\n",
    "done = False\n",
    "RENDER = False\n",
    "if RENDER:\n",
    "    game.render()\n",
    "\n",
    "next_obs = obs\n",
    "while not done:\n",
    "    input = np.array([np.expand_dims(obs[0]['agent_obs'], axis=0)]).astype(np.float32)\n",
    "    input = torch.tensor(input)\n",
    "    #input = torch.tensor([[obs[0]['agent_obs']]], dtype=torch.float32)\n",
    "    output = model(input)\n",
    "    #print(output)\n",
    "    action_team_0 = output[0]    #for now we use random actions for both teams\n",
    "    #action_team_0 = [np.random.uniform(-100,200), np.random.uniform(-30, 30)]\n",
    "    action_team_1 = [np.random.uniform(-100,200), np.random.uniform(-30, 30)]\n",
    "    \n",
    "    if our_team:\n",
    "        input_action = [action_team_1, action_team_0]\n",
    "    else:\n",
    "        input_action = [action_team_0, action_team_1]\n",
    "\n",
    "\n",
    "    next_obs, reward, done, _ = game.step(input_action)\n",
    "\n",
    "    if RENDER:\n",
    "        game.render()\n",
    "    \n",
    "    obs = next_obs\n",
    "print('final reward = ', reward)\n",
    "pygame.display.quit()\n",
    "pygame.quit()"
   ]
  },
  {
   "cell_type": "code",
   "execution_count": null,
   "metadata": {},
   "outputs": [],
   "source": [
    "import pygame\n",
    "import matplotlib.pyplot as plt\n",
    "\n",
    "CURRENT_PATH = os.getcwd()\n",
    "\n",
    "from olympics_engine.scenario import wrestling\n",
    "from olympics_engine.generator import create_scenario\n",
    "gamemap =  create_scenario('wrestling')        #load map config\n",
    "game = wrestling(gamemap)\n",
    "\n",
    "print('action dim 0 range = ', game.action_f)\n",
    "print('action dim 1 range = ', game.action_theta)\n",
    "our_team = 0        #we control team_0\n",
    "obs = game.reset()\n",
    "done = False\n",
    "RENDER = False\n",
    "if RENDER:\n",
    "    game.render()\n",
    "\n",
    "next_obs = obs\n",
    "\n",
    "obs = np.array([np.expand_dims(obs[0]['agent_obs'], axis=0)]).astype(np.float32)\n",
    "obs = torch.tensor(obs)\n",
    "print(obs.shape)\n",
    "\n",
    "out = model(obs)\n",
    "print(out)"
   ]
  }
 ],
 "metadata": {
  "kernelspec": {
   "display_name": "Python 3.8.13 ('RL_jidi')",
   "language": "python",
   "name": "python3"
  },
  "language_info": {
   "codemirror_mode": {
    "name": "ipython",
    "version": 3
   },
   "file_extension": ".py",
   "mimetype": "text/x-python",
   "name": "python",
   "nbconvert_exporter": "python",
   "pygments_lexer": "ipython3",
   "version": "3.8.13"
  },
  "orig_nbformat": 4,
  "vscode": {
   "interpreter": {
    "hash": "07c2b9683306c4df383913650b4ab328a3f778275f53f5e6c40f667508bde685"
   }
  }
 },
 "nbformat": 4,
 "nbformat_minor": 2
}
