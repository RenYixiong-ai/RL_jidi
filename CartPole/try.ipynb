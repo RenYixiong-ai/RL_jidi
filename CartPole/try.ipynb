{
 "cells": [
  {
   "cell_type": "code",
   "execution_count": null,
   "metadata": {},
   "outputs": [],
   "source": [
    "import gym\n",
    "import time\n",
    "env = gym.make('CartPole-v1')   #创造环境\n",
    "observation = env.reset()       #初始化环境，observation为环境状态\n",
    "count = 0\n",
    "for t in range(1000):\n",
    "    action = env.action_space.sample()  #随机采样动作\n",
    "    observation, reward, done, info = env.step(action)  #与环境交互，获得下一步的时刻\n",
    "    if done:\n",
    "        break\n",
    "    env.render()         #绘制场景\n",
    "    count+=1\n",
    "    time.sleep(0.2)      #每次等待0.2s\n",
    "print(count)             #打印该次尝试的步数"
   ]
  }
 ],
 "metadata": {
  "kernelspec": {
   "display_name": "Python 3.8.13 ('RL')",
   "language": "python",
   "name": "python3"
  },
  "language_info": {
   "codemirror_mode": {
    "name": "ipython",
    "version": 3
   },
   "file_extension": ".py",
   "mimetype": "text/x-python",
   "name": "python",
   "nbconvert_exporter": "python",
   "pygments_lexer": "ipython3",
   "version": "3.8.13"
  },
  "orig_nbformat": 4,
  "vscode": {
   "interpreter": {
    "hash": "c8dc982a7145738264708a45f37b8c78fa2fc664e1396a6c9770a92b61c37a37"
   }
  }
 },
 "nbformat": 4,
 "nbformat_minor": 2
}
